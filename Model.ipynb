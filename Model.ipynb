{
 "cells": [
  {
   "cell_type": "code",
   "execution_count": 10,
   "id": "cb6a960d",
   "metadata": {},
   "outputs": [],
   "source": [
    "import pandas as pd\n",
    "import numpy as np\n",
    "from sklearn.model_selection import train_test_split\n",
    "import joblib"
   ]
  },
  {
   "cell_type": "code",
   "execution_count": 2,
   "id": "722f2635",
   "metadata": {},
   "outputs": [],
   "source": [
    "matches_df = pd.read_csv('data/matches_summarized.csv')"
   ]
  },
  {
   "cell_type": "code",
   "execution_count": 3,
   "id": "5bac8e53",
   "metadata": {},
   "outputs": [],
   "source": [
    "columns=['placementValue','scoreValue','killsValue',\n",
    " 'deathsValue','assistsValue','damageValue','damageReceivedValue',\n",
    " 'grenadeCastsValue','ability1CastsValue','ability2CastsValue',\n",
    " 'ultimateCastsValue','econRatingValue','suicidesValue',\n",
    " 'firstBloodsValue','firstDeathsValue','lastDeathsValue',\n",
    " 'survivedValue','tradedValue','kASTValue',\n",
    " 'scorePerRoundValue','damagePerRoundValue','hasWon']"
   ]
  },
  {
   "cell_type": "code",
   "execution_count": 4,
   "id": "9c3f5357",
   "metadata": {},
   "outputs": [],
   "source": [
    "data=matches_df[columns]"
   ]
  },
  {
   "cell_type": "code",
   "execution_count": 5,
   "id": "08bf0460",
   "metadata": {},
   "outputs": [
    {
     "data": {
      "text/plain": [
       "placementValue           0\n",
       "scoreValue               0\n",
       "killsValue               0\n",
       "deathsValue              0\n",
       "assistsValue             0\n",
       "damageValue              0\n",
       "damageReceivedValue      0\n",
       "grenadeCastsValue      156\n",
       "ability1CastsValue     156\n",
       "ability2CastsValue     156\n",
       "ultimateCastsValue     156\n",
       "econRatingValue          0\n",
       "suicidesValue            0\n",
       "firstBloodsValue         0\n",
       "firstDeathsValue         0\n",
       "lastDeathsValue          0\n",
       "survivedValue            0\n",
       "tradedValue              0\n",
       "kASTValue                0\n",
       "scorePerRoundValue       0\n",
       "damagePerRoundValue      0\n",
       "hasWon                   0\n",
       "dtype: int64"
      ]
     },
     "execution_count": 5,
     "metadata": {},
     "output_type": "execute_result"
    }
   ],
   "source": [
    "data.isna().sum()"
   ]
  },
  {
   "cell_type": "code",
   "execution_count": 6,
   "id": "53f1cc52",
   "metadata": {},
   "outputs": [
    {
     "name": "stderr",
     "output_type": "stream",
     "text": [
      "C:\\Users\\Litchi\\AppData\\Local\\Temp\\ipykernel_17944\\1368182302.py:1: SettingWithCopyWarning: \n",
      "A value is trying to be set on a copy of a slice from a DataFrame\n",
      "\n",
      "See the caveats in the documentation: https://pandas.pydata.org/pandas-docs/stable/user_guide/indexing.html#returning-a-view-versus-a-copy\n",
      "  data.dropna(inplace=True)\n"
     ]
    }
   ],
   "source": [
    "data.dropna(inplace=True)"
   ]
  },
  {
   "cell_type": "code",
   "execution_count": 7,
   "id": "58ba89bc",
   "metadata": {},
   "outputs": [],
   "source": [
    "X=data.drop('hasWon',axis=1)\n",
    "y=data['hasWon']"
   ]
  },
  {
   "cell_type": "code",
   "execution_count": 8,
   "id": "c2559648",
   "metadata": {},
   "outputs": [],
   "source": [
    "X_train, X_test, y_train, y_test = train_test_split(\n",
    "X, y, test_size=0.2, random_state=42)"
   ]
  },
  {
   "cell_type": "code",
   "execution_count": 12,
   "id": "f67bb6ef",
   "metadata": {},
   "outputs": [
    {
     "name": "stdout",
     "output_type": "stream",
     "text": [
      "==============================\n",
      "KNeighborsClassifier\n",
      "****Results****\n",
      "Accuracy: 68.2076%\n",
      "Log Loss: 3.5303402480231187\n",
      "==============================\n",
      "DecisionTreeClassifier\n",
      "****Results****\n",
      "Accuracy: 74.4201%\n",
      "Log Loss: 8.83498339483218\n",
      "==============================\n",
      "RandomForestClassifier\n",
      "****Results****\n",
      "Accuracy: 80.9863%\n",
      "Log Loss: 0.38292648230863136\n",
      "==============================\n",
      "AdaBoostClassifier\n",
      "****Results****\n",
      "Accuracy: 79.1836%\n",
      "Log Loss: 0.6741274205179728\n",
      "==============================\n",
      "GradientBoostingClassifier\n",
      "****Results****\n",
      "Accuracy: 80.3749%\n",
      "Log Loss: 0.3914056281898907\n",
      "==============================\n",
      "GaussianNB\n",
      "****Results****\n",
      "Accuracy: 73.8732%\n",
      "Log Loss: 0.8206151393774845\n",
      "==============================\n",
      "LinearDiscriminantAnalysis\n",
      "****Results****\n",
      "Accuracy: 81.0867%\n",
      "Log Loss: 0.4162871903643533\n",
      "==============================\n",
      "QuadraticDiscriminantAnalysis\n",
      "****Results****\n",
      "Accuracy: 78.7326%\n",
      "Log Loss: 0.5379281441396154\n",
      "==============================\n"
     ]
    }
   ],
   "source": [
    "from sklearn.metrics import accuracy_score, log_loss\n",
    "from sklearn.neighbors import KNeighborsClassifier\n",
    "from sklearn.svm import SVC, LinearSVC, NuSVC\n",
    "from sklearn.tree import DecisionTreeClassifier\n",
    "from sklearn.ensemble import RandomForestClassifier, AdaBoostClassifier, GradientBoostingClassifier\n",
    "from sklearn.naive_bayes import GaussianNB\n",
    "from sklearn.discriminant_analysis import LinearDiscriminantAnalysis\n",
    "from sklearn.discriminant_analysis import QuadraticDiscriminantAnalysis\n",
    "\n",
    "classifiers = [\n",
    "    KNeighborsClassifier(3),\n",
    "    #SVC(kernel=\"rbf\", C=0.025, probability=True),\n",
    "    #NuSVC(probability=True),\n",
    "    DecisionTreeClassifier(),\n",
    "    RandomForestClassifier(),\n",
    "    AdaBoostClassifier(),\n",
    "    GradientBoostingClassifier(),\n",
    "    GaussianNB(),\n",
    "    LinearDiscriminantAnalysis(),\n",
    "    QuadraticDiscriminantAnalysis()]\n",
    "\n",
    "# Logging for Visual Comparison\n",
    "log_cols=[\"Classifier\", \"Accuracy\", \"Log Loss\"]\n",
    "log = pd.DataFrame(columns=log_cols)\n",
    "\n",
    "for clf in classifiers:\n",
    "    clf.fit(X_train, y_train)\n",
    "    name = clf.__class__.__name__\n",
    "    \n",
    "    print(\"=\"*30)\n",
    "    print(name)\n",
    "    \n",
    "    print('****Results****')\n",
    "    train_predictions = clf.predict(X_test)\n",
    "    acc = accuracy_score(y_test, train_predictions)\n",
    "    print(\"Accuracy: {:.4%}\".format(acc))\n",
    "    \n",
    "    train_predictions = clf.predict_proba(X_test)\n",
    "    ll = log_loss(y_test, train_predictions)\n",
    "    print(\"Log Loss: {}\".format(ll))\n",
    "    joblib.dump(clf,f\"{clf.__class__.__name__}.joblib\")\n",
    "    \n",
    "print(\"=\"*30)"
   ]
  },
  {
   "cell_type": "code",
   "execution_count": null,
   "id": "e7b3537c",
   "metadata": {},
   "outputs": [],
   "source": [
    " "
   ]
  }
 ],
 "metadata": {
  "kernelspec": {
   "display_name": "Python 3 (ipykernel)",
   "language": "python",
   "name": "python3"
  },
  "language_info": {
   "codemirror_mode": {
    "name": "ipython",
    "version": 3
   },
   "file_extension": ".py",
   "mimetype": "text/x-python",
   "name": "python",
   "nbconvert_exporter": "python",
   "pygments_lexer": "ipython3",
   "version": "3.8.13"
  }
 },
 "nbformat": 4,
 "nbformat_minor": 5
}
